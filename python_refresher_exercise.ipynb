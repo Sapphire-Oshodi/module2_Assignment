{
  "cells": [
    {
      "cell_type": "markdown",
      "metadata": {
        "vscode": {
          "languageId": "plaintext"
        },
        "id": "4Dh6Fu_Gf0cX"
      },
      "source": [
        "# Python Refresher Exercise  \n",
        "\n",
        "This exercise is designed to help you revisit and test your understanding of core Python concepts covered in class. You will work on tasks covering variables, data types, loops, functions, conditionals, file handling and object-oriented programming. These fundamentals are crucial for your success in more advanced topics like data analysis, machine learning, and building applications.  \n",
        "\n",
        "If you find this exercise particularly challenging, it’s a sign that you should revisit the learning materials and class recordings. Use this as an opportunity to strengthen your foundation before moving forward in the course.  \n",
        "\n",
        "Your goal is to demonstrate proficiency in Python basics by solving the provided problems effectively and writing clean, functional code.  \n",
        "\n",
        "## Instructions  \n",
        "\n",
        "- Answer the questions or complete the tasks outlined in **bold** below.  \n",
        "- Use the specific method described if applicable.  \n",
        "- **Important:** Do not run your code in the same cell where the answer is provided. Create a new cell below/above and write your code there.  \n",
        "- Running code in the same cell as the answer will overwrite the provided hints and answers. Ensure you follow this structure to retain all information.  \n",
        "\n",
        "Good luck!  \n"
      ]
    },
    {
      "cell_type": "markdown",
      "metadata": {
        "id": "jVtt1sk_f0cb"
      },
      "source": [
        "**1. Task:** What is 7 to the power of 4?"
      ]
    },
    {
      "cell_type": "code",
      "execution_count": 4,
      "metadata": {
        "id": "lZD3N73qf0cc",
        "colab": {
          "base_uri": "https://localhost:8080/"
        },
        "outputId": "d4d421cf-9807-40d7-aed7-c162815095ed"
      },
      "outputs": [
        {
          "output_type": "stream",
          "name": "stdout",
          "text": [
            "2401\n"
          ]
        }
      ],
      "source": [
        "result = 7 ** 4\n",
        "print(result)"
      ]
    },
    {
      "cell_type": "markdown",
      "metadata": {
        "id": "ulnq2c7yf0cd"
      },
      "source": [
        "**2.Task** Split this string:\n",
        "\n",
        "    s = \"Hi there Daveworld!\"\n",
        "    \n",
        "**into a list.**"
      ]
    },
    {
      "cell_type": "code",
      "source": [
        "s = \"Hi there Daveworld!\"\n",
        "print(s)"
      ],
      "metadata": {
        "colab": {
          "base_uri": "https://localhost:8080/"
        },
        "id": "J88SC0AugZ6y",
        "outputId": "34419903-f508-4a69-a462-473899d2c24e"
      },
      "execution_count": 7,
      "outputs": [
        {
          "output_type": "stream",
          "name": "stdout",
          "text": [
            "Hi there Daveworld!\n"
          ]
        }
      ]
    },
    {
      "cell_type": "code",
      "execution_count": 8,
      "metadata": {
        "id": "RRZwGHKUf0cd",
        "colab": {
          "base_uri": "https://localhost:8080/"
        },
        "outputId": "fe8ce2b2-3f4c-4431-880f-86227fe6ebbc"
      },
      "outputs": [
        {
          "output_type": "stream",
          "name": "stdout",
          "text": [
            "['Hi', 'there', 'Daveworld!']\n"
          ]
        }
      ],
      "source": [
        "to_list = s.split()\n",
        "print(to_list)"
      ]
    },
    {
      "cell_type": "markdown",
      "metadata": {
        "id": "ck7_XROTf0ce"
      },
      "source": [
        "**3.Task** Given this nested list, use indexing to grab the word \"hello\""
      ]
    },
    {
      "cell_type": "code",
      "execution_count": 18,
      "metadata": {
        "id": "w_UdB_7if0ce"
      },
      "outputs": [],
      "source": [
        "lst = [1,2,[3,4],[5,[100,200,['hello']],23,11],1,7]"
      ]
    },
    {
      "cell_type": "code",
      "execution_count": 23,
      "metadata": {
        "id": "q9jgn_hjf0ce",
        "outputId": "6f02081f-68c4-4532-b974-f07442f12e7c",
        "colab": {
          "base_uri": "https://localhost:8080/",
          "height": 35
        }
      },
      "outputs": [
        {
          "output_type": "execute_result",
          "data": {
            "text/plain": [
              "'hello'"
            ],
            "application/vnd.google.colaboratory.intrinsic+json": {
              "type": "string"
            }
          },
          "metadata": {},
          "execution_count": 23
        }
      ],
      "source": [
        "lst[3][1][2][0]"
      ]
    },
    {
      "cell_type": "markdown",
      "metadata": {
        "id": "F0kZeLNlf0cf"
      },
      "source": [
        "**4. Task** Given this nest dictionary grab the word \"hello\". Be prepared, this will be annoying/tricky try your best!"
      ]
    },
    {
      "cell_type": "code",
      "execution_count": 42,
      "metadata": {
        "id": "qs0-FJB4f0cf"
      },
      "outputs": [],
      "source": [
        "d = {'k1':[1,2,3,{'tricky':['oh','man','inception',{'target':[1,2,3,'hello']}]}]}"
      ]
    },
    {
      "cell_type": "code",
      "execution_count": 43,
      "metadata": {
        "id": "zaiHGTBDf0cf",
        "outputId": "bf6ed0b9-fc13-4ae4-c6e5-e1c1a4d25e46",
        "colab": {
          "base_uri": "https://localhost:8080/",
          "height": 35
        }
      },
      "outputs": [
        {
          "output_type": "execute_result",
          "data": {
            "text/plain": [
              "'hello'"
            ],
            "application/vnd.google.colaboratory.intrinsic+json": {
              "type": "string"
            }
          },
          "metadata": {},
          "execution_count": 43
        }
      ],
      "source": []
    },
    {
      "cell_type": "code",
      "execution_count": 44,
      "metadata": {
        "id": "_p655vT0f0cf",
        "colab": {
          "base_uri": "https://localhost:8080/",
          "height": 35
        },
        "outputId": "e763dad3-c213-4276-f9d1-60a38676af41"
      },
      "outputs": [
        {
          "output_type": "execute_result",
          "data": {
            "text/plain": [
              "'hello'"
            ],
            "application/vnd.google.colaboratory.intrinsic+json": {
              "type": "string"
            }
          },
          "metadata": {},
          "execution_count": 44
        }
      ],
      "source": [
        "# Write your answer here\n",
        "d['k1'][3]['tricky'][3]['target'][3]"
      ]
    },
    {
      "cell_type": "markdown",
      "metadata": {
        "id": "tfTiOhDtf0cf"
      },
      "source": [
        "**5. Task** What is the main difference between a tuple and a list?"
      ]
    },
    {
      "cell_type": "code",
      "execution_count": null,
      "metadata": {
        "id": "Cj2sDRInf0cf"
      },
      "outputs": [],
      "source": [
        "# Write your answer here\n",
        "\n",
        "#List is  Mutable - You can modify a list by adding, removing, or changing its elements.\n",
        "#Tuple is Immutable - Once a tuple is created, its elements cannot be changed, added, or removed."
      ]
    },
    {
      "cell_type": "markdown",
      "metadata": {
        "id": "bWkKT4TJf0cf"
      },
      "source": [
        "**6. Task** Create a function that grabs the email website domain from a string in the form:\n",
        "\n",
        "    user@domain.com\n",
        "    \n",
        "**So for example, passing \"user@domain.com\" would return: domain.com**"
      ]
    },
    {
      "cell_type": "code",
      "execution_count": 40,
      "metadata": {
        "id": "LzfANxuPf0cg"
      },
      "outputs": [],
      "source": [
        "# Write your answer here\n",
        "def domainGet(email):\n",
        "    return email.split('@')[-1]"
      ]
    },
    {
      "cell_type": "code",
      "execution_count": 41,
      "metadata": {
        "id": "bRTwssZof0cg",
        "outputId": "f507b4e6-e18a-4786-9709-82cec1b42276",
        "colab": {
          "base_uri": "https://localhost:8080/",
          "height": 35
        }
      },
      "outputs": [
        {
          "output_type": "execute_result",
          "data": {
            "text/plain": [
              "'domain.com'"
            ],
            "application/vnd.google.colaboratory.intrinsic+json": {
              "type": "string"
            }
          },
          "metadata": {},
          "execution_count": 41
        }
      ],
      "source": [
        "# use the following code to test your implementation\n",
        "domainGet('user@domain.com')"
      ]
    },
    {
      "cell_type": "markdown",
      "metadata": {
        "id": "lyNUEGrkf0cg"
      },
      "source": [
        "**7.Task** Create a basic function that returns True if the word 'appliso' is contained in the input string. Don't worry about edge cases like a punctuation being attached to the word 'appliso', but do account for capitalization.\n",
        "\n",
        "    string = \"Appliso is a tech company aiming to change the world!\""
      ]
    },
    {
      "cell_type": "code",
      "execution_count": 38,
      "metadata": {
        "id": "fd0Lz9Wqf0cg"
      },
      "outputs": [],
      "source": [
        "# write your answer here\n",
        "def findAppliso(string):\n",
        "    return 'appliso' in string.lower()"
      ]
    },
    {
      "cell_type": "code",
      "execution_count": 39,
      "metadata": {
        "id": "EfkMmJpsf0cg",
        "outputId": "079ca84d-0f77-43c3-bc2a-e19e12474024",
        "colab": {
          "base_uri": "https://localhost:8080/"
        }
      },
      "outputs": [
        {
          "output_type": "execute_result",
          "data": {
            "text/plain": [
              "True"
            ]
          },
          "metadata": {},
          "execution_count": 39
        }
      ],
      "source": [
        "# Use the following code to test your implementation\n",
        "findAppliso('Appliso is a tech company aiming to change the world!?')"
      ]
    },
    {
      "cell_type": "markdown",
      "metadata": {
        "id": "jd6vBoWof0cg"
      },
      "source": [
        "**8. Task** Create a function that counts the number of times the word \"dog\" occurs in a string. Again ignore edge cases."
      ]
    },
    {
      "cell_type": "code",
      "execution_count": 36,
      "metadata": {
        "id": "PwP3tG43f0cg"
      },
      "outputs": [],
      "source": [
        "# write your answer here\n",
        "def countDog(string):\n",
        "    count = 0\n",
        "    for word in string.lower().split():\n",
        "        if word == 'dog':\n",
        "            count += 1\n",
        "    return count"
      ]
    },
    {
      "cell_type": "code",
      "execution_count": 37,
      "metadata": {
        "id": "PtnuXb7If0cg",
        "outputId": "3dbf132b-46aa-4970-a136-675df5d6c30f",
        "colab": {
          "base_uri": "https://localhost:8080/"
        }
      },
      "outputs": [
        {
          "output_type": "execute_result",
          "data": {
            "text/plain": [
              "2"
            ]
          },
          "metadata": {},
          "execution_count": 37
        }
      ],
      "source": [
        "# Use the following code to test your implementation\n",
        "countDog('This dog runs faster than the other dog dude!')"
      ]
    },
    {
      "cell_type": "markdown",
      "metadata": {
        "id": "oNb3-NW_f0cg"
      },
      "source": [
        "**9. Task:** Create a class called Person with attributes name and age. Add a method called introduce that prints, \"Hi, I am [name] and I am [age] years old.\" Instantiate an object and call the introduce method."
      ]
    },
    {
      "cell_type": "code",
      "execution_count": 34,
      "metadata": {
        "id": "FzYg4n_af0cg"
      },
      "outputs": [],
      "source": [
        "# write your answer here\n",
        "class Person:\n",
        "    def __init__(self, name, age):\n",
        "        self.name = \"John\"\n",
        "        self.age = 25\n",
        "\n",
        "    def introduce(self):\n",
        "        print(f\"Hi, I am {self.name} and I am {self.age} years old.\")\n"
      ]
    },
    {
      "cell_type": "code",
      "execution_count": 35,
      "metadata": {
        "id": "k7riLzUef0cg",
        "outputId": "110a7f74-0a6b-4f7d-b682-e2e269862484",
        "colab": {
          "base_uri": "https://localhost:8080/"
        }
      },
      "outputs": [
        {
          "output_type": "stream",
          "name": "stdout",
          "text": [
            "Hi, I am John and I am 25 years old.\n"
          ]
        }
      ],
      "source": [
        "Person = Person(\"John\", 25)\n",
        "Person.introduce()"
      ]
    },
    {
      "cell_type": "markdown",
      "metadata": {
        "id": "6Zg-JHjSf0ch"
      },
      "source": [
        "**10.Task:** Write a Python program to create a text file named sample.txt, write \"Hello, Python!\" to it, and then read the content."
      ]
    },
    {
      "cell_type": "code",
      "execution_count": null,
      "metadata": {
        "id": "0pL3ImXCf0ch",
        "outputId": "d210ee9b-66fe-463b-86e0-65768746c0d2"
      },
      "outputs": [
        {
          "name": "stdout",
          "output_type": "stream",
          "text": [
            "Hello, Python!\n"
          ]
        }
      ],
      "source": []
    },
    {
      "cell_type": "code",
      "execution_count": 32,
      "metadata": {
        "id": "fjD-7rSZf0ch",
        "colab": {
          "base_uri": "https://localhost:8080/"
        },
        "outputId": "aaabef8b-789e-4247-87c9-f93241a77854"
      },
      "outputs": [
        {
          "output_type": "stream",
          "name": "stdout",
          "text": [
            "Hello, Python!\n"
          ]
        }
      ],
      "source": [
        "# write your answer here\n",
        "with open('sample.txt', 'w') as file:\n",
        "    file.write('Hello, Python!')\n",
        "\n",
        "with open('sample.txt', 'r') as file:\n",
        "    content = file.read()\n",
        "    print(content)"
      ]
    },
    {
      "cell_type": "markdown",
      "metadata": {
        "id": "5_wvULUqf0ch"
      },
      "source": [
        "**11. Task:** Use a list comprehension to create a list of squares for all numbers from 1 to 10.\n",
        "\n"
      ]
    },
    {
      "cell_type": "code",
      "execution_count": 31,
      "metadata": {
        "id": "yeEFHq9gf0ch",
        "outputId": "ae9f209b-a20a-4072-a589-15fbaf94036a",
        "colab": {
          "base_uri": "https://localhost:8080/"
        }
      },
      "outputs": [
        {
          "output_type": "stream",
          "name": "stdout",
          "text": [
            "[1, 4, 9, 16, 25, 36, 49, 64, 81, 100]\n"
          ]
        }
      ],
      "source": [
        "# List comprehension for squares\n",
        "squares = [x**2 for x in range(1, 11)]\n",
        "print(squares)\n"
      ]
    },
    {
      "cell_type": "markdown",
      "metadata": {
        "id": "N6t32msbf0ch"
      },
      "source": [
        "**12. Task:** Import the math library and use it to calculate the square root of 16.\n",
        "\n"
      ]
    },
    {
      "cell_type": "code",
      "execution_count": null,
      "metadata": {
        "id": "pishMbAOf0ch",
        "outputId": "3e5f422f-8371-4df1-f336-8da3b8d42b3a"
      },
      "outputs": [
        {
          "name": "stdout",
          "output_type": "stream",
          "text": [
            "The square root of 16 is 4.0.\n"
          ]
        }
      ],
      "source": []
    },
    {
      "cell_type": "code",
      "execution_count": 30,
      "metadata": {
        "id": "so0pd7Mtf0ch",
        "colab": {
          "base_uri": "https://localhost:8080/"
        },
        "outputId": "cfdd6d4e-bcca-4754-f552-bde297050c2f"
      },
      "outputs": [
        {
          "output_type": "stream",
          "name": "stdout",
          "text": [
            "4.0\n"
          ]
        }
      ],
      "source": [
        "# write your answer here\n",
        "import math\n",
        "square_root = math.sqrt(16)\n",
        "print(square_root)"
      ]
    },
    {
      "cell_type": "markdown",
      "metadata": {
        "id": "ki_TPr8hf0ch"
      },
      "source": [
        "**13. Task:** Write a Python program that performs the following:  \n",
        "1. Accepts two numbers from the user.  \n",
        "2. Tries to divide the first number by the second.  \n",
        "3. Handles `ZeroDivisionError` if the second number is zero.  \n",
        "4. Handles `ValueError` if the input is not a number.  \n",
        "5. Prints a message when all operations are complete, whether an exception occurred or not.  \n"
      ]
    },
    {
      "cell_type": "code",
      "execution_count": null,
      "metadata": {
        "id": "SlGKPgCZf0ch",
        "outputId": "e0a2f782-08e4-46d1-8a7e-6f8b7962ff3a"
      },
      "outputs": [
        {
          "name": "stdout",
          "output_type": "stream",
          "text": [
            "Error: Invalid input! Please enter a number.\n",
            "Operation completed.\n"
          ]
        }
      ],
      "source": []
    },
    {
      "cell_type": "code",
      "execution_count": 29,
      "metadata": {
        "id": "cN37PmXOf0cn",
        "colab": {
          "base_uri": "https://localhost:8080/"
        },
        "outputId": "2ac2419e-cb8b-4de3-f1d5-250d61440aae"
      },
      "outputs": [
        {
          "output_type": "stream",
          "name": "stdout",
          "text": [
            "Enter the first number: 2.1\n",
            "Enter the second number: 2.4\n",
            "Result: 0.8750000000000001\n"
          ]
        }
      ],
      "source": [
        "# write your answer here\n",
        "try:\n",
        "    num1 = float(input(\"Enter the first number: \"))\n",
        "    num2 = float(input(\"Enter the second number: \"))\n",
        "    result = num1 / num2\n",
        "except ValueError:\n",
        "    print(\"Invalid input. Please enter numbers only.\")\n",
        "except ZeroDivisionError:\n",
        "    print(\"Cannot divide by zero.\")\n",
        "else:\n",
        "    print(\"Result:\", result)"
      ]
    },
    {
      "cell_type": "markdown",
      "metadata": {
        "id": "p2RXEuI-f0cn"
      },
      "source": [
        "**14 Task:** Use lambda expressions and the filter() function to filter out words from a list that don't start with the letter 's'. For example:\n",
        "\n",
        "    seq = ['soup','dog','salad','cat','great']\n",
        "\n",
        "**should be filtered down to:**\n",
        "\n",
        "    ['soup','salad']"
      ]
    },
    {
      "cell_type": "code",
      "execution_count": 27,
      "metadata": {
        "id": "x-6GuZ5lf0cn"
      },
      "outputs": [],
      "source": [
        "seq = ['soup','dog','salad','cat','great']"
      ]
    },
    {
      "cell_type": "code",
      "execution_count": 28,
      "metadata": {
        "id": "PN42z6D7f0cn",
        "outputId": "a37713e0-e7bc-4070-a014-67086319579f",
        "colab": {
          "base_uri": "https://localhost:8080/"
        }
      },
      "outputs": [
        {
          "output_type": "stream",
          "name": "stdout",
          "text": [
            "['soup', 'salad']\n"
          ]
        }
      ],
      "source": [
        "seq = ['soup','dog','salad','cat','great']\n",
        "filtered_words = list(filter(lambda word: word.startswith('s'), seq))\n",
        "print(filtered_words)"
      ]
    },
    {
      "cell_type": "markdown",
      "metadata": {
        "id": "Mb9ufy8-f0cn"
      },
      "source": [
        "### Final Problem\n",
        "\n",
        "**15 Task:** You are given a list of students' scores and a cut-off mark. Write a Python program to determine:  \n",
        "1. The number of students who passed the cut-off mark.  \n",
        "2. The number of students who did not pass the cut-off mark.  \n",
        "3. Print the percentage of students who passed and failed.  \n",
        "\n",
        "**Details:**  \n",
        "- You will be provided a list of scores (e.g., `[45, 78, 88, 56, 90, 34, 65, 77]`).  \n",
        "- The cut-off mark is 50.  \n",
        "\n",
        "Write your program to calculate the above and output the results in a clear format.\n",
        "\n",
        "---\n",
        "\n",
        "### **Expected Output Example:**  \n",
        "For the given scores `[45, 78, 88, 56, 90, 34, 65, 77]` and cut-off mark of 50:  \n",
        "\n",
        "Number of students who passed: 5\n",
        "Number of students who failed: 3\n",
        "Percentage of students who passed: 62.5%\n",
        "Percentage of students who failed: 37.5%\n",
        "\n",
        "### **Hint:**  \n",
        "Use a loop or list comprehension to filter the scores based on the cut-off mark. You can calculate percentages using the formula:  "
      ]
    },
    {
      "cell_type": "code",
      "execution_count": 26,
      "metadata": {
        "id": "9edQUQoef0cn",
        "outputId": "9c2f6ae7-dd46-40c1-e620-cda016964df5",
        "colab": {
          "base_uri": "https://localhost:8080/"
        }
      },
      "outputs": [
        {
          "output_type": "stream",
          "name": "stdout",
          "text": [
            "Number of students who passed: 6\n",
            "Number of students who failed: 2\n",
            "Percentage of students who passed: 75.00%\n",
            "Percentage of students who failed: 25.00%\n"
          ]
        }
      ],
      "source": [
        "# List of student scores\n",
        "scores = [45, 78, 88, 56, 90, 34, 65, 77]\n",
        "\n",
        "# Cut-off mark\n",
        "cut_off = 50\n",
        "\n",
        "# Determine the number of students who passed and failed\n",
        "passed = [score for score in scores if score >= cut_off]\n",
        "failed = [score for score in scores if score < cut_off]\n",
        "\n",
        "# Calculate the counts\n",
        "num_passed = len(passed)\n",
        "num_failed = len(failed)\n",
        "\n",
        "# Calculate the percentages\n",
        "total_students = len(scores)\n",
        "percent_passed = (num_passed / total_students) * 100\n",
        "percent_failed = (num_failed / total_students) * 100\n",
        "\n",
        "# Print the results\n",
        "print(f\"Number of students who passed: {num_passed}\")\n",
        "print(f\"Number of students who failed: {num_failed}\")\n",
        "print(f\"Percentage of students who passed: {percent_passed:.2f}%\")\n",
        "print(f\"Percentage of students who failed: {percent_failed:.2f}%\")"
      ]
    },
    {
      "cell_type": "code",
      "execution_count": null,
      "metadata": {
        "id": "VsVkDp7Wf0cn"
      },
      "outputs": [],
      "source": [
        "# write your answer here"
      ]
    },
    {
      "cell_type": "markdown",
      "metadata": {
        "id": "OmXgdQJZf0cn"
      },
      "source": [
        "# Great job!"
      ]
    }
  ],
  "metadata": {
    "kernelspec": {
      "display_name": "base",
      "language": "python",
      "name": "python3"
    },
    "language_info": {
      "codemirror_mode": {
        "name": "ipython",
        "version": 3
      },
      "file_extension": ".py",
      "mimetype": "text/x-python",
      "name": "python",
      "nbconvert_exporter": "python",
      "pygments_lexer": "ipython3",
      "version": "3.12.4"
    },
    "colab": {
      "provenance": []
    }
  },
  "nbformat": 4,
  "nbformat_minor": 0
}